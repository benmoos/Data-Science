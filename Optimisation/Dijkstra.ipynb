{
 "cells": [
  {
   "cell_type": "code",
   "execution_count": 2,
   "metadata": {
    "collapsed": true
   },
   "outputs": [],
   "source": [
    "def Initialisation(degré,s_ini):\n",
    "    for s in degré:\n",
    "        degré[s]=float('inf')\n",
    "    degré[s_ini]=0"
   ]
  },
  {
   "cell_type": "code",
   "execution_count": 3,
   "metadata": {
    "collapsed": true
   },
   "outputs": [],
   "source": [
    "def trouve_min(Q):#trouve le sommet de degré min parmi les sommets de Q\n",
    "    mini=float('inf')\n",
    "    sommet=-1\n",
    "    for s in Q:\n",
    "        if degré[s]<mini:\n",
    "            mini=degré[s]\n",
    "            sommet=s\n",
    "    return sommet"
   ]
  },
  {
   "cell_type": "code",
   "execution_count": 4,
   "metadata": {
    "collapsed": true
   },
   "outputs": [],
   "source": [
    "def MAJ_dist(s1,s2):\n",
    "    if degré[s2] > degré[s1] + arcs[(s1,s2)]:\n",
    "        degré[s2] = degré[s1] + arcs[(s1,s2)]\n",
    "        predecesseur[s2]=s1"
   ]
  },
  {
   "cell_type": "code",
   "execution_count": 10,
   "metadata": {
    "collapsed": true
   },
   "outputs": [],
   "source": [
    "def Dijkstra(degré,arcs,predecesseur,s_ini,s_fin):\n",
    "    Initialisation(degré,s_ini)\n",
    "    Q = set(degré)\n",
    "    while Q!=set():\n",
    "        s1=trouve_min(Q)\n",
    "        if s1!=-1 :\n",
    "            Q.remove(s1)\n",
    "            for arc in arcs:\n",
    "                if arc[0]==s1:\n",
    "                    MAJ_dist(s1 ,arc[1]) \n",
    "        else:# dans ce cas il reste des sommets dans Q inatteignables depuis s_ini, on les enlève\n",
    "            Q=set()\n",
    "    chemin=list()\n",
    "    s=s_fin\n",
    "    while s != s_ini:\n",
    "        chemin.append(s)\n",
    "        if predecesseur[s]!='':\n",
    "            s=predecesseur[s]\n",
    "        else:# pas de predecesseur pour s, c'est qu'il n'y a pas de chemin de s_ini à s_fin\n",
    "            return(\"pas de chemin existant entre {} et {}\".format(s_ini,s_fin))\n",
    "    chemin.append(s_ini)\n",
    "    chemin.reverse()\n",
    "    return \"plus court chemin entre {} et {} : {}\".format(s_ini,s_fin,chemin)"
   ]
  },
  {
   "cell_type": "code",
   "execution_count": 20,
   "metadata": {},
   "outputs": [
    {
     "data": {
      "text/plain": [
       "'pas de chemin existant entre b et a'"
      ]
     },
     "execution_count": 20,
     "metadata": {},
     "output_type": "execute_result"
    }
   ],
   "source": [
    "# graphe 1 (graphe du cours)\n",
    "degré={'a':\"\",'b':\"\",'c':\"\",'d':\"\",'e':\"\",'f':\"\"}\n",
    "arcs={('a','b'):7,('a','c'):1,('b','d'):4,('b','e'):2,('c','b'):5,('c','e'):7,('c','f'):2,('e','f'):3,('f','b'):2,('f','d'):5}\n",
    "predecesseur={'a':\"\",'b':\"\",'c':\"\",'d':\"\",'e':\"\",'f':\"\"}\n",
    "Dijkstra(degré,arcs,predecesseur,'b','a')"
   ]
  },
  {
   "cell_type": "code",
   "execution_count": 21,
   "metadata": {},
   "outputs": [
    {
     "data": {
      "text/plain": [
       "'pas de chemin existant entre 3 et 1'"
      ]
     },
     "execution_count": 21,
     "metadata": {},
     "output_type": "execute_result"
    }
   ],
   "source": [
    "# graphe 2(graphe de Wikipédia)\n",
    "degré={1:\"\",2:\"\",3:\"\",4:\"\",5:\"\",6:\"\"}\n",
    "arcs={(1,2):7,(1,3):9,(1,6):14,(2,3):6,(2,4):15,(6,3):2,(3,4):11,(6,5):9,(4,5):6}\n",
    "predecesseur={1:\"\",2:\"\",3:\"\",4:\"\",5:\"\",6:\"\"}\n",
    "Dijkstra(degré,arcs,predecesseur,3,1)"
   ]
  },
  {
   "cell_type": "code",
   "execution_count": 22,
   "metadata": {},
   "outputs": [
    {
     "data": {
      "text/plain": [
       "'plus court chemin entre 1 et 2 : [1, 3, 5, 2]'"
      ]
     },
     "execution_count": 22,
     "metadata": {},
     "output_type": "execute_result"
    }
   ],
   "source": [
    "# graphe 3( Graphs and algorithms, Gondran & Minoux, page 45)\n",
    "degré={1:\"\",2:\"\",3:\"\",4:\"\",5:\"\",6:\"\"}\n",
    "arcs={(1,2):7,(1,3):1,(2,4):4,(2,6):1,(3,2):5,(3,5):2,(3,6):7,(5,2):2,(5,4):5,(6,5):3}\n",
    "predecesseur={1:\"\",2:\"\",3:\"\",4:\"\",5:\"\",6:\"\"}\n",
    "Dijkstra(degré,arcs,predecesseur,1,2)"
   ]
  },
  {
   "cell_type": "code",
   "execution_count": 23,
   "metadata": {},
   "outputs": [
    {
     "data": {
      "text/plain": [
       "\"plus court chemin entre s et t : ['s', 'a', 'd', 'f', 't']\""
      ]
     },
     "execution_count": 23,
     "metadata": {},
     "output_type": "execute_result"
    }
   ],
   "source": [
    "# graphe 4(graphe examen)\n",
    "degré={'s':\"\",'a':\"\",'b':\"\",'c':\"\",'d':\"\",'e':\"\",'f':\"\",'g':\"\",'t':\"\"}\n",
    "arcs={('s','a'):2,('s','b'):3,('s','d'):11,('a','c'):3,('a','d'):4,('a','f'):9,('b','e'):3,('b','g'):10,('c','d'):1,('c','f'):4,\n",
    "     ('d','e'):1,('d','f'):2,('d','t'):8,('e','g'):5,('f','t'):3,('g','t'):2}\n",
    "predecesseur={'s':\"\",'a':\"\",'b':\"\",'c':\"\",'d':\"\",'e':\"\",'f':\"\",'g':\"\",'t':\"\"}\n",
    "Dijkstra(degré,arcs,predecesseur,'s','t')"
   ]
  }
 ],
 "metadata": {
  "kernelspec": {
   "display_name": "Python 3",
   "language": "python",
   "name": "python3"
  },
  "language_info": {
   "codemirror_mode": {
    "name": "ipython",
    "version": 3
   },
   "file_extension": ".py",
   "mimetype": "text/x-python",
   "name": "python",
   "nbconvert_exporter": "python",
   "pygments_lexer": "ipython3",
   "version": "3.6.2"
  }
 },
 "nbformat": 4,
 "nbformat_minor": 2
}
