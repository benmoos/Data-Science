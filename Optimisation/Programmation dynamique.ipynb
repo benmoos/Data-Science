{
 "cells": [
  {
   "cell_type": "markdown",
   "metadata": {},
   "source": [
    "Exercice 1:"
   ]
  },
  {
   "cell_type": "code",
   "execution_count": 88,
   "metadata": {},
   "outputs": [],
   "source": [
    "import numpy as np\n",
    "def plus_longue_ss_suite_comm(X,Y):\n",
    "    Z=list()\n",
    "    m=len(X)\n",
    "    n=len(Y)\n",
    "    c=np.zeros((m+1,n+1))\n",
    "    b=np.zeros((m+1,n+1))\n",
    "    for i in range(m):\n",
    "        c[i,0]=0\n",
    "    for j in range(n):\n",
    "        c[0,j]=0\n",
    "    for i in range(m):\n",
    "        for j in range(n):\n",
    "            if(X[i]==Y[j]):\n",
    "                c[i+1,j+1]=c[i,j]+1\n",
    "                b[i+1,j+1]=1# 1 signifie que le prédecesseur est la case en haut à gauche\n",
    "            else:\n",
    "                if c[i,j+1]>= c[i+1,j]:\n",
    "                    c[i+1,j+1]=c[i,j+1]\n",
    "                    b[i+1,j+1]=2 # 2 : le prédecesseur est la case du dessus\n",
    "                else:\n",
    "                    c[i+1,j+1]=c[i+1,j]\n",
    "                    b[i+1,j+1]=3 # le préd est la case de gauche\n",
    "    i=m\n",
    "    j=n# on part en bas à droite de la matrice\n",
    "    while(b[i,j]!=0):# tant qu'on n'est pas arrivé sur la première colonne ou ligne, \n",
    "        #on parcourt les prédecesseurs et on les ajoute à Z si ils correspondent à un délacement diagonal  \n",
    "        if b[i,j]==2:\n",
    "            i-=1\n",
    "        elif b[i,j]==1:\n",
    "            i-=1\n",
    "            j-=1\n",
    "            Z.append(X[i])\n",
    "        else:\n",
    "            j-=1 \n",
    "    return c,Z[::-1]            "
   ]
  },
  {
   "cell_type": "code",
   "execution_count": 93,
   "metadata": {},
   "outputs": [
    {
     "data": {
      "text/plain": [
       "(array([[ 0.,  0.,  0.,  0.,  0.,  0.,  0.],\n",
       "        [ 0.,  0.,  0.,  0.,  1.,  1.,  1.],\n",
       "        [ 0.,  1.,  1.,  1.,  1.,  2.,  2.],\n",
       "        [ 0.,  1.,  1.,  2.,  2.,  2.,  2.],\n",
       "        [ 0.,  1.,  1.,  2.,  2.,  3.,  3.],\n",
       "        [ 0.,  1.,  2.,  2.,  2.,  3.,  3.],\n",
       "        [ 0.,  1.,  2.,  2.,  3.,  3.,  4.],\n",
       "        [ 0.,  1.,  2.,  2.,  3.,  4.,  4.]]), ['B', 'C', 'B', 'A'])"
      ]
     },
     "execution_count": 93,
     "metadata": {},
     "output_type": "execute_result"
    }
   ],
   "source": [
    "plus_longue_ss_suite_comm(['A','B','C','B','D','A','B'],['B','D','C','A','B','A'])"
   ]
  },
  {
   "cell_type": "markdown",
   "metadata": {},
   "source": [
    "Exercice 2:"
   ]
  },
  {
   "cell_type": "code",
   "execution_count": 91,
   "metadata": {},
   "outputs": [
    {
     "data": {
      "text/plain": [
       "(array([[ 0.,  0.,  0.,  0.,  0.,  0.,  0.,  0.,  0.],\n",
       "        [ 0.,  0.,  1.,  1.,  1.,  1.,  1.,  1.,  1.],\n",
       "        [ 0.,  1.,  1.,  1.,  2.,  2.,  2.,  2.,  2.],\n",
       "        [ 0.,  1.,  2.,  2.,  2.,  3.,  3.,  3.,  3.],\n",
       "        [ 0.,  1.,  2.,  2.,  3.,  3.,  4.,  4.,  4.],\n",
       "        [ 0.,  1.,  2.,  2.,  3.,  3.,  4.,  4.,  5.],\n",
       "        [ 0.,  1.,  2.,  3.,  3.,  4.,  4.,  5.,  5.],\n",
       "        [ 0.,  1.,  2.,  3.,  4.,  4.,  5.,  5.,  6.],\n",
       "        [ 0.,  1.,  2.,  3.,  4.,  4.,  5.,  5.,  6.],\n",
       "        [ 0.,  1.,  2.,  3.,  4.,  5.,  5.,  6.,  6.]]), [0, 1, 0, 1, 0, 1])"
      ]
     },
     "execution_count": 91,
     "metadata": {},
     "output_type": "execute_result"
    }
   ],
   "source": [
    "plus_longue_ss_suite_comm([0,1,0,1,1,0,1,1,0],[1,0,0,1,0,1,0,1])"
   ]
  },
  {
   "cell_type": "markdown",
   "metadata": {},
   "source": [
    "Exercice 3"
   ]
  },
  {
   "cell_type": "code",
   "execution_count": 96,
   "metadata": {},
   "outputs": [],
   "source": [
    "def plus_longue_ss_suite_croissante(X):\n",
    "    return plus_longue_ss_suite_comm(X,sorted(X))\n"
   ]
  },
  {
   "cell_type": "code",
   "execution_count": 97,
   "metadata": {},
   "outputs": [
    {
     "data": {
      "text/plain": [
       "(array([[ 0.,  0.,  0.,  0.,  0.,  0.,  0.,  0.,  0.,  0.],\n",
       "        [ 0.,  1.,  1.,  1.,  1.,  1.,  1.,  1.,  1.,  1.],\n",
       "        [ 0.,  1.,  1.,  1.,  1.,  1.,  1.,  2.,  2.,  2.],\n",
       "        [ 0.,  1.,  1.,  2.,  2.,  2.,  2.,  2.,  2.,  2.],\n",
       "        [ 0.,  1.,  1.,  2.,  2.,  2.,  2.,  2.,  3.,  3.],\n",
       "        [ 0.,  1.,  1.,  2.,  2.,  3.,  3.,  3.,  3.,  3.],\n",
       "        [ 0.,  1.,  1.,  2.,  2.,  3.,  4.,  4.,  4.,  4.],\n",
       "        [ 0.,  1.,  2.,  2.,  2.,  3.,  4.,  4.,  4.,  4.],\n",
       "        [ 0.,  1.,  2.,  3.,  3.,  3.,  4.,  4.,  4.,  4.],\n",
       "        [ 0.,  1.,  2.,  3.,  3.,  3.,  4.,  4.,  4.,  5.]]), [0, 2, 4, 5, 9])"
      ]
     },
     "execution_count": 97,
     "metadata": {},
     "output_type": "execute_result"
    }
   ],
   "source": [
    "plus_longue_ss_suite_croissante([0,6,2,8,4,5,1,2,9])"
   ]
  },
  {
   "cell_type": "markdown",
   "metadata": {},
   "source": [
    "Exercice 4:"
   ]
  },
  {
   "cell_type": "code",
   "execution_count": 142,
   "metadata": {
    "collapsed": true
   },
   "outputs": [],
   "source": [
    "nbre_cube=[i**3 for i in range(30)]\n",
    "nbre_pyramide=np.cumsum([i**2 for i in range(90)])\n",
    "list_of_lists = [nbre_pyramide,nbre_cube]\n",
    "flattened_list = [y for x in list_of_lists for y in x]\n",
    "list_cube_pyramide=sorted(np.unique(flattened_list))"
   ]
  },
  {
   "cell_type": "code",
   "execution_count": 143,
   "metadata": {},
   "outputs": [
    {
     "data": {
      "text/plain": [
       "[0,\n",
       " 1,\n",
       " 5,\n",
       " 8,\n",
       " 14,\n",
       " 27,\n",
       " 30,\n",
       " 55,\n",
       " 64,\n",
       " 91,\n",
       " 125,\n",
       " 140,\n",
       " 204,\n",
       " 216,\n",
       " 285,\n",
       " 343,\n",
       " 385,\n",
       " 506,\n",
       " 512,\n",
       " 650,\n",
       " 729,\n",
       " 819,\n",
       " 1000,\n",
       " 1015,\n",
       " 1240,\n",
       " 1331,\n",
       " 1496,\n",
       " 1728,\n",
       " 1785,\n",
       " 2109,\n",
       " 2197,\n",
       " 2470,\n",
       " 2744,\n",
       " 2870,\n",
       " 3311,\n",
       " 3375,\n",
       " 3795,\n",
       " 4096,\n",
       " 4324,\n",
       " 4900,\n",
       " 4913,\n",
       " 5525,\n",
       " 5832,\n",
       " 6201,\n",
       " 6859,\n",
       " 6930,\n",
       " 7714,\n",
       " 8000,\n",
       " 8555,\n",
       " 9261,\n",
       " 9455,\n",
       " 10416,\n",
       " 10648,\n",
       " 11440,\n",
       " 12167,\n",
       " 12529,\n",
       " 13685,\n",
       " 13824,\n",
       " 14910,\n",
       " 15625,\n",
       " 16206,\n",
       " 17575,\n",
       " 17576,\n",
       " 19019,\n",
       " 19683,\n",
       " 20540,\n",
       " 21952,\n",
       " 22140,\n",
       " 23821,\n",
       " 24389,\n",
       " 25585,\n",
       " 27434,\n",
       " 29370,\n",
       " 31395,\n",
       " 33511,\n",
       " 35720,\n",
       " 38024,\n",
       " 40425,\n",
       " 42925,\n",
       " 45526,\n",
       " 48230,\n",
       " 51039,\n",
       " 53955,\n",
       " 56980,\n",
       " 60116,\n",
       " 63365,\n",
       " 66729,\n",
       " 70210,\n",
       " 73810,\n",
       " 77531,\n",
       " 81375,\n",
       " 85344,\n",
       " 89440,\n",
       " 93665,\n",
       " 98021,\n",
       " 102510,\n",
       " 107134,\n",
       " 111895,\n",
       " 116795,\n",
       " 121836,\n",
       " 127020,\n",
       " 132349,\n",
       " 137825,\n",
       " 143450,\n",
       " 149226,\n",
       " 155155,\n",
       " 161239,\n",
       " 167480,\n",
       " 173880,\n",
       " 180441,\n",
       " 187165,\n",
       " 194054,\n",
       " 201110,\n",
       " 208335,\n",
       " 215731,\n",
       " 223300,\n",
       " 231044,\n",
       " 238965]"
      ]
     },
     "execution_count": 143,
     "metadata": {},
     "output_type": "execute_result"
    }
   ],
   "source": [
    "list_cube_pyramide"
   ]
  },
  {
   "cell_type": "code",
   "execution_count": 134,
   "metadata": {},
   "outputs": [],
   "source": []
  },
  {
   "cell_type": "code",
   "execution_count": 137,
   "metadata": {},
   "outputs": [
    {
     "data": {
      "text/plain": [
       "[0,\n",
       " 1,\n",
       " 5,\n",
       " 8,\n",
       " 14,\n",
       " 27,\n",
       " 30,\n",
       " 55,\n",
       " 64,\n",
       " 91,\n",
       " 125,\n",
       " 140,\n",
       " 204,\n",
       " 216,\n",
       " 285,\n",
       " 343,\n",
       " 385,\n",
       " 506,\n",
       " 512,\n",
       " 650,\n",
       " 729,\n",
       " 819,\n",
       " 1000,\n",
       " 1015,\n",
       " 1240,\n",
       " 1331,\n",
       " 1496,\n",
       " 1728,\n",
       " 1785,\n",
       " 2109,\n",
       " 2197,\n",
       " 2470,\n",
       " 2744,\n",
       " 3375,\n",
       " 4096,\n",
       " 4913,\n",
       " 5832,\n",
       " 6859]"
      ]
     },
     "execution_count": 137,
     "metadata": {},
     "output_type": "execute_result"
    }
   ],
   "source": []
  },
  {
   "cell_type": "code",
   "execution_count": null,
   "metadata": {
    "collapsed": true
   },
   "outputs": [],
   "source": []
  }
 ],
 "metadata": {
  "kernelspec": {
   "display_name": "Python 3",
   "language": "python",
   "name": "python3"
  },
  "language_info": {
   "codemirror_mode": {
    "name": "ipython",
    "version": 3
   },
   "file_extension": ".py",
   "mimetype": "text/x-python",
   "name": "python",
   "nbconvert_exporter": "python",
   "pygments_lexer": "ipython3",
   "version": "3.6.2"
  }
 },
 "nbformat": 4,
 "nbformat_minor": 2
}
