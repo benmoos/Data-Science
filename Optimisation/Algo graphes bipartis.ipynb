{
 "cells": [
  {
   "cell_type": "code",
   "execution_count": 64,
   "metadata": {},
   "outputs": [],
   "source": [
    "def DFS_rouge(x0):\n",
    "    global rep\n",
    "    #print(\"{} marqué rouge\".format(x0))\n",
    "    sommets[x0]=\"rouge\"\n",
    "    for successeur in S[x0-1]:\n",
    "        #print(\"DFS Rouge : On s'intéresse au successeur {} de {}\".format(successeur,x0))\n",
    "        if sommets[successeur]==\"rouge\":\n",
    "            rep=False\n",
    "        else:\n",
    "            if sommets[successeur]!=\"vert\":\n",
    "                DFS_vert(successeur) \n",
    "    return(rep)"
   ]
  },
  {
   "cell_type": "code",
   "execution_count": 65,
   "metadata": {},
   "outputs": [],
   "source": [
    "def DFS_vert(x0):\n",
    "    global rep\n",
    "    sommets[x0]=\"vert\"\n",
    "    #print(\"{} marqué vert\".format(x0))\n",
    "    for successeur in S[x0-1]:\n",
    "        #print(\"DFS Vert : On s'intéresse au successeur {} de {}\".format(successeur,x0))\n",
    "        if sommets[successeur]==\"vert\":\n",
    "            rep=False\n",
    "        else:\n",
    "            if sommets[successeur]!=\"rouge\":\n",
    "                DFS_rouge(successeur) \n",
    "    return(rep)"
   ]
  },
  {
   "cell_type": "code",
   "execution_count": 66,
   "metadata": {},
   "outputs": [
    {
     "name": "stdout",
     "output_type": "stream",
     "text": [
      "Le graphe est biparti\n"
     ]
    },
    {
     "data": {
      "text/plain": [
       "{1: 'rouge', 2: 'vert', 3: 'rouge', 4: 'vert'}"
      ]
     },
     "execution_count": 66,
     "metadata": {},
     "output_type": "execute_result"
    }
   ],
   "source": [
    "# graphe 1\n",
    "rep=True\n",
    "sommets={1:\"\",2:\"\",3:\"\",4:\"\"}\n",
    "S=[[2,4],[1,3],[2,4],[1,3]]\n",
    "if DFS_rouge(1):\n",
    "    print(\"Le graphe est biparti\")\n",
    "else:\n",
    "    print(\"Le graphe n'est pas biparti\")\n",
    "sommets"
   ]
  },
  {
   "cell_type": "code",
   "execution_count": 67,
   "metadata": {},
   "outputs": [
    {
     "name": "stdout",
     "output_type": "stream",
     "text": [
      "Le graphe n'est pas biparti\n"
     ]
    },
    {
     "data": {
      "text/plain": [
       "{1: 'vert', 2: 'rouge', 3: 'vert'}"
      ]
     },
     "execution_count": 67,
     "metadata": {},
     "output_type": "execute_result"
    }
   ],
   "source": [
    "# graphe 2\n",
    "rep=True\n",
    "sommets={1:\"\",2:\"\",3:\"\"}\n",
    "S=[[2,3],[1,3],[1,2]]\n",
    "if DFS_vert(1):\n",
    "    print(\"Le graphe est biparti\")\n",
    "else:\n",
    "    print(\"Le graphe n'est pas biparti\")\n",
    "sommets"
   ]
  },
  {
   "cell_type": "code",
   "execution_count": 68,
   "metadata": {},
   "outputs": [
    {
     "name": "stdout",
     "output_type": "stream",
     "text": [
      "Le graphe est biparti\n"
     ]
    },
    {
     "data": {
      "text/plain": [
       "{1: 'rouge',\n",
       " 2: 'rouge',\n",
       " 3: 'vert',\n",
       " 4: 'rouge',\n",
       " 5: 'vert',\n",
       " 6: 'rouge',\n",
       " 7: 'vert',\n",
       " 8: 'rouge',\n",
       " 9: 'vert'}"
      ]
     },
     "execution_count": 68,
     "metadata": {},
     "output_type": "execute_result"
    }
   ],
   "source": [
    "# graphe 3\n",
    "rep=True\n",
    "sommets={1:\"\",2:\"\",3:\"\",4:\"\",5:\"\",6:\"\",7:\"\",8:\"\",9:\"\"}\n",
    "S=[[3],[3,5],[2,8],[7,9],[2,6],[5],[4],[3,9],[4,8]]\n",
    "if DFS_rouge(1):\n",
    "    print(\"Le graphe est biparti\")\n",
    "else:\n",
    "    print(\"Le graphe n'est pas biparti\")\n",
    "sommets"
   ]
  },
  {
   "cell_type": "code",
   "execution_count": 69,
   "metadata": {},
   "outputs": [
    {
     "name": "stdout",
     "output_type": "stream",
     "text": [
      "Le graphe est biparti\n"
     ]
    }
   ],
   "source": [
    "rep=True\n",
    "sommets={1:\"\",2:\"\",3:\"\",4:\"\",5:\"\",6:\"\",7:\"\",8:\"\",9:\"\"}\n",
    "S=[[2,3,4],[1,7],[1,5],[1],[3,8],[7],[6,9],[5],[7]]\n",
    "if DFS_vert(1):\n",
    "    print(\"Le graphe est biparti\")\n",
    "else:\n",
    "    print(\"Le graphe n'est pas biparti\")"
   ]
  },
  {
   "cell_type": "code",
   "execution_count": 70,
   "metadata": {},
   "outputs": [
    {
     "name": "stdout",
     "output_type": "stream",
     "text": [
      "Le graphe n'est pas biparti\n"
     ]
    }
   ],
   "source": [
    "rep=True\n",
    "sommets={1:\"\",2:\"\",3:\"\",4:\"\",5:\"\",6:\"\"}\n",
    "S=[[2],[1,3],[2,4,5],[3,5],[3,4,6],[5]]\n",
    "if DFS_rouge(1):\n",
    "    print(\"Le graphe est biparti\")\n",
    "else:\n",
    "    print(\"Le graphe n'est pas biparti\")"
   ]
  },
  {
   "cell_type": "code",
   "execution_count": null,
   "metadata": {},
   "outputs": [],
   "source": []
  }
 ],
 "metadata": {
  "kernelspec": {
   "display_name": "Python 3",
   "language": "python",
   "name": "python3"
  },
  "language_info": {
   "codemirror_mode": {
    "name": "ipython",
    "version": 3
   },
   "file_extension": ".py",
   "mimetype": "text/x-python",
   "name": "python",
   "nbconvert_exporter": "python",
   "pygments_lexer": "ipython3",
   "version": "3.5.2"
  }
 },
 "nbformat": 4,
 "nbformat_minor": 2
}
